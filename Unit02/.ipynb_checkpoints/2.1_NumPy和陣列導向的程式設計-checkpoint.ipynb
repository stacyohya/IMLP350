{
 "cells": [
  {
   "cell_type": "markdown",
   "metadata": {},
   "source": [
    "# NumPy 和陣列導向的程式設計\n",
    "\n",
    "`NumPy` 可以說是 Python 中最最標準的科學計算、數據分析套件。也因為 `NumPy` 的出現, 讓 Python 有了非常好的數據分析基礎, 一直到現在成為數據分析覇主。"
   ]
  },
  {
   "cell_type": "code",
   "execution_count": 11,
   "metadata": {
    "collapsed": true
   },
   "outputs": [],
   "source": [
    "import numpy as np"
   ]
  },
  {
   "cell_type": "markdown",
   "metadata": {},
   "source": [
    "## 1. 陣列導向 101\n",
    "\n",
    "科學計算一個很核心的概念叫 \"array oriented\" 的寫法。Array 是 `numpy` 標準的資料結構, 和 list 很像, 但就差了那麼一點點。而這一點點讓我們在計算上是無比的方便。"
   ]
  },
  {
   "cell_type": "markdown",
   "metadata": {},
   "source": [
    "### 【暖身】 計算平均\n",
    "\n",
    "某位同學期中考各科成績如下, 請幫他計算成績。\n",
    "\n",
    "    grades = [77, 85, 56, 90, 66]\n",
    "    \n",
    "請計算平均。"
   ]
  },
  {
   "cell_type": "code",
   "execution_count": 36,
   "metadata": {},
   "outputs": [
    {
     "name": "stdout",
     "output_type": "stream",
     "text": [
      "average =  74.80, sum = 374\n"
     ]
    }
   ],
   "source": [
    "s = 0\n",
    "grades = [77, 85, 56, 90, 66]\n",
    "\n",
    "for i in grades:\n",
    "    s = s + i # s+=i\n",
    "\n",
    "print(\"average = {0: .2f}, sum = {1}\".format(s/len(grades),s))\n",
    "#string內帶入變數使用{}, 0: 從０的位置取值, .2f兩位小數\n",
    "#sum = {1}, 從第一個位置取值\n",
    "#{0:6.0f},冒號後為格式化輸出, ６代表要輸入６個char"
   ]
  },
  {
   "cell_type": "markdown",
   "metadata": {},
   "source": [
    "### 【示範】陣列導向"
   ]
  },
  {
   "cell_type": "code",
   "execution_count": 37,
   "metadata": {},
   "outputs": [
    {
     "name": "stdout",
     "output_type": "stream",
     "text": [
      "74.8\n"
     ]
    }
   ],
   "source": [
    "grades = np.array([77, 85, 56, 90, 66], int)\n",
    "total = np.sum(grades,axis=0)\n",
    "#print(total)\n",
    "average = np.mean(grades)\n",
    "print(average)\n",
    "#np.mean一般算數平均\n",
    "#np.average(x, axis=0, weights= w)加權平均, w權重向量 "
   ]
  },
  {
   "cell_type": "markdown",
   "metadata": {},
   "source": [
    "最大值"
   ]
  },
  {
   "cell_type": "code",
   "execution_count": 30,
   "metadata": {},
   "outputs": [
    {
     "name": "stdout",
     "output_type": "stream",
     "text": [
      "90\n"
     ]
    }
   ],
   "source": [
    "maximum = np.max(grades)\n",
    "print(maximum)"
   ]
  },
  {
   "cell_type": "markdown",
   "metadata": {},
   "source": [
    "標準差"
   ]
  },
  {
   "cell_type": "code",
   "execution_count": 31,
   "metadata": {},
   "outputs": [
    {
     "name": "stdout",
     "output_type": "stream",
     "text": [
      "12.4161185561\n"
     ]
    }
   ],
   "source": [
    "std = np.std(grades)\n",
    "print(std)"
   ]
  },
  {
   "cell_type": "markdown",
   "metadata": {},
   "source": [
    "### 【暖身】 換算匯率\n",
    "\n",
    "假設今天我想查查號稱 Pentax 三公主的 31mm, 43mm, 77mm 三隻 limited 鏡頭在美國賣多少。於是我去 B&H 查了他們的價格分別是:\n",
    "\n",
    "    prices = [1096.95, 596.95, 896.95]\n",
    "    \n",
    "我又查了 Google 匯率 1 美金為 31.71 元。請把三支鏡頭的價格換算為台幣。"
   ]
  },
  {
   "cell_type": "code",
   "execution_count": 45,
   "metadata": {},
   "outputs": [
    {
     "name": "stdout",
     "output_type": "stream",
     "text": [
      "[34784.2845, 18929.2845, 28442.2845]\n"
     ]
    }
   ],
   "source": [
    "prices = [1096.95, 596.95, 896.95]\n",
    "usd2twd = 31.71\n",
    "twd_price = []\n",
    "\n",
    "for i in prices:\n",
    "    twd_price.append(usd2twd * i)\n",
    "print (twd_price)"
   ]
  },
  {
   "cell_type": "markdown",
   "metadata": {},
   "source": [
    "先不管這實在有夠醜的數字, 我們要記得在科學計算中:\n",
    "\n",
    "### 儘可能不要使用迴圈\n",
    "\n",
    "這可能嗎?"
   ]
  },
  {
   "cell_type": "markdown",
   "metadata": {},
   "source": [
    "### 【示範】陣列換算匯率"
   ]
  },
  {
   "cell_type": "code",
   "execution_count": 46,
   "metadata": {},
   "outputs": [
    {
     "data": {
      "text/plain": [
       "array([ 34784.2845,  18929.2845,  28442.2845])"
      ]
     },
     "execution_count": 46,
     "metadata": {},
     "output_type": "execute_result"
    }
   ],
   "source": [
    "prices = [1096.95, 596.95, 896.95]\n",
    "prices = np.array(prices)\n",
    "prices *usd2twd"
   ]
  },
  {
   "cell_type": "markdown",
   "metadata": {},
   "source": [
    "哦哦, 傑克, 這太神奇了!"
   ]
  },
  {
   "cell_type": "markdown",
   "metadata": {},
   "source": [
    "## 2. 其實 array 還有很多功能\n",
    "\n",
    "### 【練習】 成績計算\n",
    "\n",
    "一位老師成績這樣算的:\n",
    "\n",
    "* 平時成績 20%\n",
    "* 期中考   35%\n",
    "* 期未考   45%\n",
    "\n",
    "有位同學\n",
    "\n",
    "* 平時成績 85 分\n",
    "* 期中 70 分\n",
    "* 期末 80 分\n",
    "\n",
    "這位同學的學期成績是多少?"
   ]
  },
  {
   "cell_type": "code",
   "execution_count": 47,
   "metadata": {
    "collapsed": true
   },
   "outputs": [],
   "source": [
    "grades = np.array([85,70,80])\n",
    "weights = np.array([0.2, 0.35, 0.45])"
   ]
  },
  {
   "cell_type": "markdown",
   "metadata": {},
   "source": [
    "這還不是我們要的最終成績啊!"
   ]
  },
  {
   "cell_type": "code",
   "execution_count": 48,
   "metadata": {},
   "outputs": [
    {
     "data": {
      "text/plain": [
       "array([ 17. ,  24.5,  36. ])"
      ]
     },
     "execution_count": 48,
     "metadata": {},
     "output_type": "execute_result"
    }
   ],
   "source": [
    "grades * weights"
   ]
  },
  {
   "cell_type": "markdown",
   "metadata": {},
   "source": [
    "### 【提示】 array 還有很多函數可以用\n",
    "\n",
    "可以先打入\n",
    "\n",
    "    weighted_grades.\n",
    "    \n",
    "先不要按 `enter` 或 `shift-enter`, 而是按 `tab`...\n"
   ]
  },
  {
   "cell_type": "code",
   "execution_count": 49,
   "metadata": {},
   "outputs": [
    {
     "data": {
      "text/plain": [
       "77.5"
      ]
     },
     "execution_count": 49,
     "metadata": {},
     "output_type": "execute_result"
    }
   ],
   "source": [
    "weighted_grades = grades * weights\n",
    "weighted_grades.sum()"
   ]
  },
  {
   "cell_type": "markdown",
   "metadata": {},
   "source": [
    "### 【技巧】 一行完成成績計算"
   ]
  },
  {
   "cell_type": "code",
   "execution_count": 50,
   "metadata": {},
   "outputs": [
    {
     "data": {
      "text/plain": [
       "77.5"
      ]
     },
     "execution_count": 50,
     "metadata": {},
     "output_type": "execute_result"
    }
   ],
   "source": [
    "np.dot(grades, weights)"
   ]
  },
  {
   "cell_type": "markdown",
   "metadata": {},
   "source": [
    "## 3. 重要的 array 大變身!\n",
    "\n",
    "我們在數據分析, 常常要改 array 的型式。"
   ]
  },
  {
   "cell_type": "markdown",
   "metadata": {},
   "source": [
    "### 【練習】 一個 50 個數字的 array\n",
    "\n",
    "先想辦法、用亂數做出 50 個數字的 array, 叫做 A 好了。"
   ]
  },
  {
   "cell_type": "code",
   "execution_count": 56,
   "metadata": {},
   "outputs": [
    {
     "data": {
      "text/plain": [
       "array([ 0.8758248 ,  0.48349487,  0.07126361,  0.18753441,  0.78498606,\n",
       "        0.29467795,  0.28438839,  0.12524129,  0.13165251,  0.08049665,\n",
       "        0.09000871,  0.80471578,  0.19125298,  0.11040843,  0.93476841,\n",
       "        0.92312572,  0.6533478 ,  0.04377726,  0.23400817,  0.80888122,\n",
       "        0.60830246,  0.12380127,  0.31133259,  0.89016732,  0.08546041,\n",
       "        0.33820496,  0.05040627,  0.3255638 ,  0.26800146,  0.3524629 ,\n",
       "        0.64667286,  0.21064539,  0.9149594 ,  0.01586175,  0.6241355 ,\n",
       "        0.16632153,  0.73275259,  0.28970073,  0.3299716 ,  0.00785235,\n",
       "        0.17814584,  0.6800741 ,  0.6125143 ,  0.11977492,  0.29185604,\n",
       "        0.76028045,  0.73196477,  0.63432842,  0.00145816,  0.94350081])"
      ]
     },
     "execution_count": 56,
     "metadata": {},
     "output_type": "execute_result"
    }
   ],
   "source": [
    "A = np.random.rand(50)\n",
    "A"
   ]
  },
  {
   "cell_type": "code",
   "execution_count": 57,
   "metadata": {},
   "outputs": [
    {
     "data": {
      "text/plain": [
       "0.87582480236059856"
      ]
     },
     "execution_count": 57,
     "metadata": {},
     "output_type": "execute_result"
    }
   ],
   "source": [
    "A[0]"
   ]
  },
  {
   "cell_type": "markdown",
   "metadata": {},
   "source": [
    "### 【技巧】 檢查 A 的 `shape`"
   ]
  },
  {
   "cell_type": "code",
   "execution_count": 53,
   "metadata": {},
   "outputs": [
    {
     "data": {
      "text/plain": [
       "(50,)"
      ]
     },
     "execution_count": 53,
     "metadata": {},
     "output_type": "execute_result"
    }
   ],
   "source": [
    "A.shape"
   ]
  },
  {
   "cell_type": "markdown",
   "metadata": {},
   "source": [
    "### 【技巧】 更改 A 的 shape"
   ]
  },
  {
   "cell_type": "code",
   "execution_count": 58,
   "metadata": {},
   "outputs": [
    {
     "data": {
      "text/plain": [
       "array([[ 0.8758248 ,  0.48349487,  0.07126361,  0.18753441,  0.78498606,\n",
       "         0.29467795,  0.28438839,  0.12524129,  0.13165251,  0.08049665],\n",
       "       [ 0.09000871,  0.80471578,  0.19125298,  0.11040843,  0.93476841,\n",
       "         0.92312572,  0.6533478 ,  0.04377726,  0.23400817,  0.80888122],\n",
       "       [ 0.60830246,  0.12380127,  0.31133259,  0.89016732,  0.08546041,\n",
       "         0.33820496,  0.05040627,  0.3255638 ,  0.26800146,  0.3524629 ],\n",
       "       [ 0.64667286,  0.21064539,  0.9149594 ,  0.01586175,  0.6241355 ,\n",
       "         0.16632153,  0.73275259,  0.28970073,  0.3299716 ,  0.00785235],\n",
       "       [ 0.17814584,  0.6800741 ,  0.6125143 ,  0.11977492,  0.29185604,\n",
       "         0.76028045,  0.73196477,  0.63432842,  0.00145816,  0.94350081]])"
      ]
     },
     "execution_count": 58,
     "metadata": {},
     "output_type": "execute_result"
    }
   ],
   "source": [
    "A.shape = (5,10)\n",
    "A"
   ]
  },
  {
   "cell_type": "code",
   "execution_count": 59,
   "metadata": {},
   "outputs": [
    {
     "data": {
      "text/plain": [
       "array([ 0.8758248 ,  0.48349487,  0.07126361,  0.18753441,  0.78498606,\n",
       "        0.29467795,  0.28438839,  0.12524129,  0.13165251,  0.08049665])"
      ]
     },
     "execution_count": 59,
     "metadata": {},
     "output_type": "execute_result"
    }
   ],
   "source": [
    "A[0]"
   ]
  },
  {
   "cell_type": "code",
   "execution_count": 61,
   "metadata": {},
   "outputs": [
    {
     "data": {
      "text/plain": [
       "0.87582480236059856"
      ]
     },
     "execution_count": 61,
     "metadata": {},
     "output_type": "execute_result"
    }
   ],
   "source": [
    "A[0][0]\n",
    "A[0,0]"
   ]
  },
  {
   "cell_type": "markdown",
   "metadata": {},
   "source": [
    "### 【技巧】 也可以用 `reshape`\n",
    "\n",
    "但要注意, reshape 並沒有改原來的陣列。"
   ]
  },
  {
   "cell_type": "code",
   "execution_count": 62,
   "metadata": {},
   "outputs": [
    {
     "data": {
      "text/plain": [
       "array([[ 0.8758248 ,  0.48349487,  0.07126361,  0.18753441,  0.78498606],\n",
       "       [ 0.29467795,  0.28438839,  0.12524129,  0.13165251,  0.08049665],\n",
       "       [ 0.09000871,  0.80471578,  0.19125298,  0.11040843,  0.93476841],\n",
       "       [ 0.92312572,  0.6533478 ,  0.04377726,  0.23400817,  0.80888122],\n",
       "       [ 0.60830246,  0.12380127,  0.31133259,  0.89016732,  0.08546041],\n",
       "       [ 0.33820496,  0.05040627,  0.3255638 ,  0.26800146,  0.3524629 ],\n",
       "       [ 0.64667286,  0.21064539,  0.9149594 ,  0.01586175,  0.6241355 ],\n",
       "       [ 0.16632153,  0.73275259,  0.28970073,  0.3299716 ,  0.00785235],\n",
       "       [ 0.17814584,  0.6800741 ,  0.6125143 ,  0.11977492,  0.29185604],\n",
       "       [ 0.76028045,  0.73196477,  0.63432842,  0.00145816,  0.94350081]])"
      ]
     },
     "execution_count": 62,
     "metadata": {},
     "output_type": "execute_result"
    }
   ],
   "source": [
    "A.reshape(10,5)"
   ]
  },
  {
   "cell_type": "markdown",
   "metadata": {},
   "source": [
    "### 【技巧】 拉平 `ravel`\n",
    "\n",
    "雖然你想一想就知道可以用 `shape` 或 `reshape` 把多維陣列拉成一維。不過用 `ravel` 很潮。"
   ]
  },
  {
   "cell_type": "code",
   "execution_count": 64,
   "metadata": {},
   "outputs": [
    {
     "data": {
      "text/plain": [
       "array([ 0.8758248 ,  0.48349487,  0.07126361,  0.18753441,  0.78498606,\n",
       "        0.29467795,  0.28438839,  0.12524129,  0.13165251,  0.08049665,\n",
       "        0.09000871,  0.80471578,  0.19125298,  0.11040843,  0.93476841,\n",
       "        0.92312572,  0.6533478 ,  0.04377726,  0.23400817,  0.80888122,\n",
       "        0.60830246,  0.12380127,  0.31133259,  0.89016732,  0.08546041,\n",
       "        0.33820496,  0.05040627,  0.3255638 ,  0.26800146,  0.3524629 ,\n",
       "        0.64667286,  0.21064539,  0.9149594 ,  0.01586175,  0.6241355 ,\n",
       "        0.16632153,  0.73275259,  0.28970073,  0.3299716 ,  0.00785235,\n",
       "        0.17814584,  0.6800741 ,  0.6125143 ,  0.11977492,  0.29185604,\n",
       "        0.76028045,  0.73196477,  0.63432842,  0.00145816,  0.94350081])"
      ]
     },
     "execution_count": 64,
     "metadata": {},
     "output_type": "execute_result"
    }
   ],
   "source": [
    "A.ravel()"
   ]
  },
  {
   "cell_type": "markdown",
   "metadata": {},
   "source": [
    "## 4. 快速 array 生成法"
   ]
  },
  {
   "cell_type": "markdown",
   "metadata": {},
   "source": [
    "### 【技巧】 都是 0 的 array"
   ]
  },
  {
   "cell_type": "code",
   "execution_count": 71,
   "metadata": {},
   "outputs": [
    {
     "data": {
      "text/plain": [
       "array([[ 0.,  0.,  0.,  0.],\n",
       "       [ 0.,  0.,  0.,  0.],\n",
       "       [ 0.,  0.,  0.,  0.]])"
      ]
     },
     "execution_count": 71,
     "metadata": {},
     "output_type": "execute_result"
    }
   ],
   "source": [
    "np.zeros(10)\n",
    "np.zeros((3,4))"
   ]
  },
  {
   "cell_type": "markdown",
   "metadata": {},
   "source": [
    "### 【技巧】 都是 1 的 array"
   ]
  },
  {
   "cell_type": "code",
   "execution_count": 67,
   "metadata": {},
   "outputs": [
    {
     "data": {
      "text/plain": [
       "array([ 1.,  1.,  1.,  1.,  1.,  1.,  1.,  1.,  1.,  1.])"
      ]
     },
     "execution_count": 67,
     "metadata": {},
     "output_type": "execute_result"
    }
   ],
   "source": [
    "np.ones(10)"
   ]
  },
  {
   "cell_type": "markdown",
   "metadata": {},
   "source": [
    "### 【技巧】單位矩陣"
   ]
  },
  {
   "cell_type": "code",
   "execution_count": 72,
   "metadata": {},
   "outputs": [
    {
     "data": {
      "text/plain": [
       "array([[ 1.,  0.,  0.,  0.,  0.],\n",
       "       [ 0.,  1.,  0.,  0.,  0.],\n",
       "       [ 0.,  0.,  1.,  0.,  0.],\n",
       "       [ 0.,  0.,  0.,  1.,  0.],\n",
       "       [ 0.,  0.,  0.,  0.,  1.]])"
      ]
     },
     "execution_count": 72,
     "metadata": {},
     "output_type": "execute_result"
    }
   ],
   "source": [
    "np.eye(5)"
   ]
  },
  {
   "cell_type": "markdown",
   "metadata": {},
   "source": [
    "### 【技巧】給定範圍均勻生出 n 個點"
   ]
  },
  {
   "cell_type": "code",
   "execution_count": 75,
   "metadata": {},
   "outputs": [
    {
     "data": {
      "text/plain": [
       "array([  0.        ,   0.1010101 ,   0.2020202 ,   0.3030303 ,\n",
       "         0.4040404 ,   0.50505051,   0.60606061,   0.70707071,\n",
       "         0.80808081,   0.90909091,   1.01010101,   1.11111111,\n",
       "         1.21212121,   1.31313131,   1.41414141,   1.51515152,\n",
       "         1.61616162,   1.71717172,   1.81818182,   1.91919192,\n",
       "         2.02020202,   2.12121212,   2.22222222,   2.32323232,\n",
       "         2.42424242,   2.52525253,   2.62626263,   2.72727273,\n",
       "         2.82828283,   2.92929293,   3.03030303,   3.13131313,\n",
       "         3.23232323,   3.33333333,   3.43434343,   3.53535354,\n",
       "         3.63636364,   3.73737374,   3.83838384,   3.93939394,\n",
       "         4.04040404,   4.14141414,   4.24242424,   4.34343434,\n",
       "         4.44444444,   4.54545455,   4.64646465,   4.74747475,\n",
       "         4.84848485,   4.94949495,   5.05050505,   5.15151515,\n",
       "         5.25252525,   5.35353535,   5.45454545,   5.55555556,\n",
       "         5.65656566,   5.75757576,   5.85858586,   5.95959596,\n",
       "         6.06060606,   6.16161616,   6.26262626,   6.36363636,\n",
       "         6.46464646,   6.56565657,   6.66666667,   6.76767677,\n",
       "         6.86868687,   6.96969697,   7.07070707,   7.17171717,\n",
       "         7.27272727,   7.37373737,   7.47474747,   7.57575758,\n",
       "         7.67676768,   7.77777778,   7.87878788,   7.97979798,\n",
       "         8.08080808,   8.18181818,   8.28282828,   8.38383838,\n",
       "         8.48484848,   8.58585859,   8.68686869,   8.78787879,\n",
       "         8.88888889,   8.98989899,   9.09090909,   9.19191919,\n",
       "         9.29292929,   9.39393939,   9.49494949,   9.5959596 ,\n",
       "         9.6969697 ,   9.7979798 ,   9.8989899 ,  10.        ])"
      ]
     },
     "execution_count": 75,
     "metadata": {},
     "output_type": "execute_result"
    }
   ],
   "source": [
    "x = np.linspace(0,10,100) #均勻生成０－１０,共１００個\n",
    "x"
   ]
  },
  {
   "cell_type": "markdown",
   "metadata": {},
   "source": [
    "### 【技巧】`range` 的 array 版\n",
    "\n",
    "就是 `arange`。"
   ]
  },
  {
   "cell_type": "code",
   "execution_count": 76,
   "metadata": {},
   "outputs": [
    {
     "data": {
      "text/plain": [
       "array([ 1. ,  1.2,  1.4,  1.6,  1.8,  2. ,  2.2,  2.4,  2.6,  2.8,  3. ,\n",
       "        3.2,  3.4,  3.6,  3.8,  4. ,  4.2,  4.4,  4.6,  4.8,  5. ,  5.2,\n",
       "        5.4,  5.6,  5.8,  6. ,  6.2,  6.4,  6.6,  6.8,  7. ,  7.2,  7.4,\n",
       "        7.6,  7.8,  8. ,  8.2,  8.4,  8.6,  8.8,  9. ,  9.2,  9.4,  9.6,\n",
       "        9.8])"
      ]
     },
     "execution_count": 76,
     "metadata": {},
     "output_type": "execute_result"
    }
   ],
   "source": [
    "np.arange(1,10,0.2)"
   ]
  },
  {
   "cell_type": "markdown",
   "metadata": {},
   "source": [
    "## 5. 超重要 `axis` 觀念\n",
    "\n",
    "初學 `numpy` 很多人有點弄不清楚 `axis` 概念。其實掌握矩陣, 或很像矩陣的陣列都是「先列後行」就可以!\n",
    "\n",
    "我們先弄個 array 來練習。"
   ]
  },
  {
   "cell_type": "code",
   "execution_count": 78,
   "metadata": {},
   "outputs": [
    {
     "data": {
      "text/plain": [
       "array([[0, 1, 2, 3, 4],\n",
       "       [5, 6, 7, 8, 9]])"
      ]
     },
     "execution_count": 78,
     "metadata": {},
     "output_type": "execute_result"
    }
   ],
   "source": [
    "A = np.arange(10).reshape(2,5) \n",
    "A"
   ]
  },
  {
   "cell_type": "code",
   "execution_count": 80,
   "metadata": {},
   "outputs": [
    {
     "data": {
      "text/plain": [
       "array([[0, 1, 2, 3, 4],\n",
       "       [5, 6, 7, 8, 9]])"
      ]
     },
     "execution_count": 80,
     "metadata": {},
     "output_type": "execute_result"
    }
   ],
   "source": [
    "np.arange(0,10,1).reshape(2,5)"
   ]
  },
  {
   "cell_type": "markdown",
   "metadata": {},
   "source": [
    "### 【重點】 一列一列算下來是 `axis=0`"
   ]
  },
  {
   "cell_type": "markdown",
   "metadata": {},
   "source": [
    "![axis=0](images/axis0.png)"
   ]
  },
  {
   "cell_type": "code",
   "execution_count": 81,
   "metadata": {},
   "outputs": [
    {
     "data": {
      "text/plain": [
       "array([ 5,  7,  9, 11, 13])"
      ]
     },
     "execution_count": 81,
     "metadata": {},
     "output_type": "execute_result"
    }
   ],
   "source": [
    "A.sum(axis = 0)"
   ]
  },
  {
   "cell_type": "markdown",
   "metadata": {},
   "source": [
    "### 【重點】 一行一行算過去是 `axis=1`\n",
    "\n",
    "![axis=1](images/axis1.png)"
   ]
  },
  {
   "cell_type": "code",
   "execution_count": 82,
   "metadata": {},
   "outputs": [
    {
     "data": {
      "text/plain": [
       "array([10, 35])"
      ]
     },
     "execution_count": 82,
     "metadata": {},
     "output_type": "execute_result"
    }
   ],
   "source": [
    "A.sum(axis = 1)"
   ]
  },
  {
   "cell_type": "markdown",
   "metadata": {},
   "source": [
    "### 【提示】當然也有可能全部算"
   ]
  },
  {
   "cell_type": "code",
   "execution_count": 83,
   "metadata": {},
   "outputs": [
    {
     "data": {
      "text/plain": [
       "45"
      ]
     },
     "execution_count": 83,
     "metadata": {},
     "output_type": "execute_result"
    }
   ],
   "source": [
    "A.sum()"
   ]
  },
  {
   "cell_type": "markdown",
   "metadata": {},
   "source": [
    "## 6. array 過濾器\n",
    "\n",
    "篩出我們要的資料, 這樣的技巧非常重要!"
   ]
  },
  {
   "cell_type": "markdown",
   "metadata": {},
   "source": [
    "### 【例子】篩出大於 0 的數\n",
    "\n",
    "我們有個陣列, 想找出大於 0 的數。<br>\n",
    "L = np.array([3, -2, -1, 5, 7, -3])"
   ]
  },
  {
   "cell_type": "code",
   "execution_count": 92,
   "metadata": {
    "collapsed": true
   },
   "outputs": [],
   "source": [
    "L = np.array([3, -2, -1, 5, 7, -3])"
   ]
  },
  {
   "cell_type": "markdown",
   "metadata": {},
   "source": [
    "我們可以很白痴的自己判斷...<br>\n",
    "c = np.array([True,False,False,True,True,False])"
   ]
  },
  {
   "cell_type": "code",
   "execution_count": 93,
   "metadata": {
    "collapsed": true
   },
   "outputs": [],
   "source": [
    "c = np.array([True,False,False,True,True,False])"
   ]
  },
  {
   "cell_type": "markdown",
   "metadata": {},
   "source": [
    "這是做啥呢? 我們可以瞬間..."
   ]
  },
  {
   "cell_type": "code",
   "execution_count": 88,
   "metadata": {},
   "outputs": [
    {
     "data": {
      "text/plain": [
       "array([3, 5, 7])"
      ]
     },
     "execution_count": 88,
     "metadata": {},
     "output_type": "execute_result"
    }
   ],
   "source": [
    "L[c]\n",
    "#篩選"
   ]
  },
  {
   "cell_type": "markdown",
   "metadata": {},
   "source": [
    "除了自己做很白痴, 這看來很厲害!"
   ]
  },
  {
   "cell_type": "markdown",
   "metadata": {},
   "source": [
    "事實上我們可以叫 `numpy` 做!"
   ]
  },
  {
   "cell_type": "code",
   "execution_count": 97,
   "metadata": {},
   "outputs": [
    {
     "data": {
      "text/plain": [
       "array([ True, False, False,  True,  True, False], dtype=bool)"
      ]
     },
     "execution_count": 97,
     "metadata": {},
     "output_type": "execute_result"
    }
   ],
   "source": [
    "L > 0"
   ]
  },
  {
   "cell_type": "markdown",
   "metadata": {},
   "source": [
    "這有點強, 我們還可以一次到位!"
   ]
  },
  {
   "cell_type": "code",
   "execution_count": 99,
   "metadata": {
    "scrolled": true
   },
   "outputs": [
    {
     "data": {
      "text/plain": [
       "array([3, 5, 7])"
      ]
     },
     "execution_count": 99,
     "metadata": {},
     "output_type": "execute_result"
    }
   ],
   "source": [
    "L = L[L>0]\n",
    "L"
   ]
  },
  {
   "cell_type": "markdown",
   "metadata": {},
   "source": [
    "## 7. 次元切割刀\n",
    "\n",
    "`numpy` 中 array 的切割法和 list 很像。"
   ]
  },
  {
   "cell_type": "code",
   "execution_count": 102,
   "metadata": {},
   "outputs": [
    {
     "data": {
      "text/plain": [
       "array([0, 1, 2, 3, 4, 5, 6, 7, 8, 9])"
      ]
     },
     "execution_count": 102,
     "metadata": {},
     "output_type": "execute_result"
    }
   ],
   "source": [
    "x = np.arange(10)\n",
    "x"
   ]
  },
  {
   "cell_type": "markdown",
   "metadata": {},
   "source": [
    "### 【技巧】2維陣列切法\n",
    "\n",
    "記得先列後行!"
   ]
  },
  {
   "cell_type": "code",
   "execution_count": 103,
   "metadata": {},
   "outputs": [
    {
     "data": {
      "text/plain": [
       "array([3, 4, 5, 6])"
      ]
     },
     "execution_count": 103,
     "metadata": {},
     "output_type": "execute_result"
    }
   ],
   "source": [
    "x[3:7]"
   ]
  },
  {
   "cell_type": "code",
   "execution_count": 108,
   "metadata": {},
   "outputs": [
    {
     "data": {
      "text/plain": [
       "array([[0, 1, 2, 3, 4],\n",
       "       [5, 6, 7, 8, 9]])"
      ]
     },
     "execution_count": 108,
     "metadata": {},
     "output_type": "execute_result"
    }
   ],
   "source": [
    "x = x.reshape(2,5)\n",
    "x"
   ]
  },
  {
   "cell_type": "markdown",
   "metadata": {},
   "source": [
    "要所有的row, 切出行 1-3 位置。"
   ]
  },
  {
   "cell_type": "code",
   "execution_count": 109,
   "metadata": {},
   "outputs": [
    {
     "data": {
      "text/plain": [
       "array([[1, 2],\n",
       "       [6, 7]])"
      ]
     },
     "execution_count": 109,
     "metadata": {},
     "output_type": "execute_result"
    }
   ],
   "source": [
    "x[:,1:3]"
   ]
  },
  {
   "cell_type": "markdown",
   "metadata": {},
   "source": [
    "要所有的行col, 切出第 1 列row!"
   ]
  },
  {
   "cell_type": "code",
   "execution_count": 110,
   "metadata": {},
   "outputs": [
    {
     "data": {
      "text/plain": [
       "array([5, 6, 7, 8, 9])"
      ]
     },
     "execution_count": 110,
     "metadata": {},
     "output_type": "execute_result"
    }
   ],
   "source": [
    "x[1,:]"
   ]
  },
  {
   "cell_type": "markdown",
   "metadata": {},
   "source": [
    "## 8. `NumPy` 的 `zip` 和 `unzip`"
   ]
  },
  {
   "cell_type": "markdown",
   "metadata": {},
   "source": [
    "之前我們介紹 list 可以用 `zip` 和 `unzip` (其實還是 `zip`) 做到的資料格式變換, 在 array 中怎麼做呢?\n",
    "\n",
    "![zip and unzip](images/zip.png)"
   ]
  },
  {
   "cell_type": "markdown",
   "metadata": {},
   "source": [
    "### 【重點】array 的 `zip`\n",
    "\n",
    "![array zip](images/arrzip.png)"
   ]
  },
  {
   "cell_type": "code",
   "execution_count": 111,
   "metadata": {
    "collapsed": true
   },
   "outputs": [],
   "source": [
    "x = np.array([1,2,3,4])\n",
    "y = np.array([5,6,7,8])"
   ]
  },
  {
   "cell_type": "code",
   "execution_count": 112,
   "metadata": {},
   "outputs": [
    {
     "data": {
      "text/plain": [
       "array([[1, 5],\n",
       "       [2, 6],\n",
       "       [3, 7],\n",
       "       [4, 8]])"
      ]
     },
     "execution_count": 112,
     "metadata": {},
     "output_type": "execute_result"
    }
   ],
   "source": [
    "X = np.c_[x,y] #c_ column\n",
    "X"
   ]
  },
  {
   "cell_type": "code",
   "execution_count": 114,
   "metadata": {},
   "outputs": [
    {
     "data": {
      "text/plain": [
       "array([1, 2, 3, 4, 5, 6, 7, 8])"
      ]
     },
     "execution_count": 114,
     "metadata": {},
     "output_type": "execute_result"
    }
   ],
   "source": [
    "Y = np.r_[x,y] #r_ row\n",
    "Y"
   ]
  },
  {
   "cell_type": "markdown",
   "metadata": {},
   "source": [
    "### 【重點】array 的 `unzip`\n",
    "\n",
    "這裡其實只需要用到 array 的切割法...\n",
    "\n",
    "![array zip](images/arrunzip.png)"
   ]
  },
  {
   "cell_type": "code",
   "execution_count": 115,
   "metadata": {},
   "outputs": [
    {
     "data": {
      "text/plain": [
       "array([1, 2, 3, 4])"
      ]
     },
     "execution_count": 115,
     "metadata": {},
     "output_type": "execute_result"
    }
   ],
   "source": [
    "X[:,0]"
   ]
  },
  {
   "cell_type": "code",
   "execution_count": 116,
   "metadata": {},
   "outputs": [
    {
     "data": {
      "text/plain": [
       "array([5, 6, 7, 8])"
      ]
     },
     "execution_count": 116,
     "metadata": {},
     "output_type": "execute_result"
    }
   ],
   "source": [
    "X[:,1]"
   ]
  }
 ],
 "metadata": {
  "kernelspec": {
   "display_name": "Python 3",
   "language": "python",
   "name": "python3"
  },
  "language_info": {
   "codemirror_mode": {
    "name": "ipython",
    "version": 3
   },
   "file_extension": ".py",
   "mimetype": "text/x-python",
   "name": "python",
   "nbconvert_exporter": "python",
   "pygments_lexer": "ipython3",
   "version": "3.6.1"
  }
 },
 "nbformat": 4,
 "nbformat_minor": 2
}
